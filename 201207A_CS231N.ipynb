{
  "nbformat": 4,
  "nbformat_minor": 0,
  "metadata": {
    "colab": {
      "name": "201207A_CS231N.ipynb",
      "provenance": [],
      "collapsed_sections": []
    },
    "kernelspec": {
      "name": "python3",
      "display_name": "Python 3"
    }
  },
  "cells": [
    {
      "cell_type": "markdown",
      "metadata": {
        "id": "6I6jW9bHYvVB"
      },
      "source": [
        "- Multiclass SVM Loss"
      ]
    },
    {
      "cell_type": "code",
      "metadata": {
        "id": "OAjwZf-LYp-5"
      },
      "source": [
        "def L_i_vectorized(x, y , W):\n",
        "  scores : W.dot(x)\n",
        "  margins = np.maximum(0, scores - scores[y] + 1)\n",
        "  margins[y] = 0\n",
        "  loss_i = np.sum(margins)\n",
        "  return loss_i"
      ],
      "execution_count": 1,
      "outputs": []
    },
    {
      "cell_type": "markdown",
      "metadata": {
        "id": "JpSTRrp0aB1d"
      },
      "source": [
        "# Regularization 종류\n",
        "- Model이 Train Set에 완벽하게 Fit하지 못하도록 (overfitting 방지) 모델의 복잡오데 Penalty를 부여하는 방법\n",
        "\n",
        "- L2 regularization\n",
        "- L1 regularization\n",
        "- Elastic net (L1+L2)\n",
        "- Max norm regularization\n",
        "- Dropout\n",
        "- Fancier : Batch normalization, stochastic depth"
      ]
    },
    {
      "cell_type": "markdown",
      "metadata": {
        "id": "-0qxxgWFIdiJ"
      },
      "source": [
        "#Random Search\n",
        "- Don't use this "
      ]
    },
    {
      "cell_type": "code",
      "metadata": {
        "id": "z_2R0BpOY8-w"
      },
      "source": [
        "bestloss = float('inf')\n",
        "for num in xrange(1000):\n",
        "  W = np.random.randn(10, 3073) * 0.0001\n",
        "  loss = L(X_train, Y_train, W)\n",
        "  if loss < bestloss :\n",
        "    bestloss = loss\n",
        "    bestW = W\n",
        "  print ('in attempt %d the loss was %f, best %f' %num, loss, bestloss)"
      ],
      "execution_count": null,
      "outputs": []
    },
    {
      "cell_type": "code",
      "metadata": {
        "id": "wS8klP5iIz4E"
      },
      "source": [
        ""
      ],
      "execution_count": null,
      "outputs": []
    }
  ]
}